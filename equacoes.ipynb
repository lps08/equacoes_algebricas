{
 "cells": [
  {
   "cell_type": "code",
   "execution_count": 1,
   "source": [
    "import numpy as np"
   ],
   "outputs": [],
   "metadata": {}
  },
  {
   "cell_type": "markdown",
   "source": [
    "## Metodo a abisseção"
   ],
   "metadata": {}
  },
  {
   "cell_type": "code",
   "execution_count": 17,
   "source": [
    "def bissecao(a, b, f, n, epsilon):\r\n",
    "    \"\"\"\r\n",
    "        Função responsável por usar o calculo da bisseção\r\n",
    "\r\n",
    "        :param a: valor de a\r\n",
    "        :param b: valor de b\r\n",
    "        :param f: função onde determina o valor de f(a), f(b), f(x)\r\n",
    "    \"\"\"\r\n",
    "\r\n",
    "    i = 1\r\n",
    "    fa = f(a)\r\n",
    "\r\n",
    "    # loop até o numero de iteração definido\r\n",
    "    while (i <= n):\r\n",
    "        # atualizando os valores de p\r\n",
    "        p = a + (b -a)/2\r\n",
    "        fp = f(p)\r\n",
    "\r\n",
    "        # verificando o método de parada\r\n",
    "        if ((fp == 0) or ((b-a)/2 < epsilon)):\r\n",
    "            return p\r\n",
    "\r\n",
    "        # atualizando os valores para a proxima iteração\r\n",
    "        if (fa * fp > 0):\r\n",
    "            a = p\r\n",
    "            fa = fp\r\n",
    "\r\n",
    "        else:\r\n",
    "            b = p\r\n",
    "            \r\n",
    "        i += 1\r\n",
    "\r\n",
    "        print(\"{} | {} | {}\".format(a, b, p))"
   ],
   "outputs": [],
   "metadata": {}
  },
  {
   "cell_type": "markdown",
   "source": [
    "f(x) = x^2 - 3"
   ],
   "metadata": {}
  },
  {
   "cell_type": "code",
   "execution_count": 18,
   "source": [
    "def f(x):\r\n",
    "    return pow(x, 2) - 3"
   ],
   "outputs": [],
   "metadata": {}
  },
  {
   "cell_type": "code",
   "execution_count": 19,
   "source": [
    "bissecao(a=1, b=2, f=f, n=7, epsilon=0.01)"
   ],
   "outputs": [
    {
     "output_type": "stream",
     "name": "stdout",
     "text": [
      "1.5 | 2 | 1.5\n",
      "1.5 | 1.75 | 1.75\n",
      "1.625 | 1.75 | 1.625\n",
      "1.6875 | 1.75 | 1.6875\n",
      "1.71875 | 1.75 | 1.71875\n",
      "1.71875 | 1.734375 | 1.734375\n",
      "1.71875 | 1.734375 | 1.7265625\n"
     ]
    },
    {
     "output_type": "execute_result",
     "data": {
      "text/plain": [
       "1.7265625"
      ]
     },
     "metadata": {},
     "execution_count": 19
    }
   ],
   "metadata": {}
  },
  {
   "cell_type": "markdown",
   "source": [
    "## Metodo de Newton"
   ],
   "metadata": {}
  },
  {
   "cell_type": "code",
   "execution_count": 26,
   "source": [
    "def newton(x0, erro, maxIter, f, fLinha):\r\n",
    "    \"\"\"\r\n",
    "        Funcao do método de newton\r\n",
    "\r\n",
    "        x0 - estimativa inicial\r\n",
    "        erro - erro máximo\r\n",
    "        maxIter - máximo de iteração\r\n",
    "        f - funcao com a equacao a ser resolvida\r\n",
    "        fLinha - funcao com a derivada da equacao\r\n",
    "    \"\"\"\r\n",
    "    \r\n",
    "    k = 0\r\n",
    "    f0 = f(x0)\r\n",
    "    dr = erro + 1\r\n",
    "\r\n",
    "    while (k <= maxIter and abs(f0) > erro and dr > erro):\r\n",
    "        k += 1\r\n",
    "\r\n",
    "        # atualização de x[k+1]\r\n",
    "        x = x0 - (f0/fLinha(x0))\r\n",
    "\r\n",
    "        # atualizacao do erro\r\n",
    "        dr = abs(x - x0)\r\n",
    "\r\n",
    "        x0 = x\r\n",
    "        f0 = f(x0)\r\n",
    "\r\n",
    "        print(\"{} | {} | {}\".format(x, f0, dr))\r\n",
    "\r\n",
    "    return x"
   ],
   "outputs": [],
   "metadata": {}
  },
  {
   "cell_type": "code",
   "execution_count": 30,
   "source": [
    "def f(x):\r\n",
    "    return (1/x)-2"
   ],
   "outputs": [],
   "metadata": {}
  },
  {
   "cell_type": "code",
   "execution_count": 33,
   "source": [
    "def fLinha(x):\r\n",
    "    return - (1/pow(x, 2))"
   ],
   "outputs": [],
   "metadata": {}
  },
  {
   "cell_type": "code",
   "execution_count": 34,
   "source": [
    "newton(x0=0.4, erro=0.01, maxIter=1, f=f, fLinha=fLinha)"
   ],
   "outputs": [
    {
     "output_type": "stream",
     "name": "stdout",
     "text": [
      "0.48000000000000004 | 0.08333333333333304 | 0.08000000000000002\n",
      "0.4992 | 0.0032051282051281937 | 0.01919999999999994\n"
     ]
    },
    {
     "output_type": "execute_result",
     "data": {
      "text/plain": [
       "0.4992"
      ]
     },
     "metadata": {},
     "execution_count": 34
    }
   ],
   "metadata": {}
  },
  {
   "cell_type": "markdown",
   "source": [
    "## Interpolação Linear"
   ],
   "metadata": {}
  },
  {
   "cell_type": "markdown",
   "source": [
    "### Utilizando método de gaus para resolver o sistema"
   ],
   "metadata": {}
  },
  {
   "cell_type": "code",
   "execution_count": 2,
   "source": [
    "class EliminacaoGauss:\r\n",
    "    def __init__(self, a, b):\r\n",
    "        self.a = a\r\n",
    "        self.b = b\r\n",
    "        self.u, self.c = self.matrizTriangular()\r\n",
    "        self.resolucao = self.substituicaoRegressiva()\r\n",
    "\r\n",
    "    def matrizTriangular(self):\r\n",
    "        \"\"\" Função que faz o cálculo de eliminação de gaus.\r\n",
    "        a = matriz de entrada, b = vetor b. \"\"\"\r\n",
    "\r\n",
    "        #loop que percorre toda a matriz\r\n",
    "        for j in range(len(self.a) - 1):\r\n",
    "            for i in range(j + 1, len(self.a[j])):\r\n",
    "                # representação de mij = aij/ajj\r\n",
    "                m = self.a[i][j] / self.a[j][j]\r\n",
    "\r\n",
    "                # representação de bi = bi - mij bj\r\n",
    "                self.b[i] = self.b[i] - (m * self.b[j])\r\n",
    "\r\n",
    "                # representação de aik = aik - mij ajk\r\n",
    "                for k in range(j, len(self.a)):\r\n",
    "                    self.a[i][k] = self.a[i][k] - (m * self.a[j][k])\r\n",
    "        \r\n",
    "        # retorna a matriz triangular com o vetor b, após\r\n",
    "        # o cálculo da eliminação de gauss\r\n",
    "        return self.a, self.b\r\n",
    "\r\n",
    "    def substituicaoRegressiva(self):\r\n",
    "        \"\"\" Função que faz o cálculo da substituição regressiva.\r\n",
    "            u = matriz triangular, c = vetor b da saida da matriz\r\n",
    "            triangular. \"\"\"\r\n",
    "            \r\n",
    "        # define x com o mesmo tamnho do vetor c\r\n",
    "        x = np.zeros((len(self.c)))\r\n",
    "\r\n",
    "        # calculo da eliminação regressiva\r\n",
    "        for i in reversed(range(len(self.u))):\r\n",
    "            x[i] = self.c[i]\r\n",
    "            for j in range(i + 1, len(self.u[i])):\r\n",
    "                x[i] = x[i] - (self.u[i][j] * x[j])\r\n",
    "\r\n",
    "            x[i] = x[i]/self.u[i][i]\r\n",
    "\r\n",
    "        # retorna a solução do sistema no vetor,\r\n",
    "        # onde o índice i representa o xi\r\n",
    "        return x"
   ],
   "outputs": [],
   "metadata": {}
  },
  {
   "cell_type": "code",
   "execution_count": 4,
   "source": [
    "a = [[1, 0.5, 0.25],\r\n",
    "    [1, 0.3, 0.09],\r\n",
    "    [1, 0.1, 0.01]]\r\n",
    "\r\n",
    "b = [0.25, 0.49, 0.81]\r\n",
    "\r\n",
    "gauss = EliminacaoGauss(a=a, b=b)\r\n",
    "gauss.resolucao"
   ],
   "outputs": [
    {
     "output_type": "execute_result",
     "data": {
      "text/plain": [
       "array([ 1., -2.,  1.])"
      ]
     },
     "metadata": {},
     "execution_count": 4
    }
   ],
   "metadata": {}
  },
  {
   "cell_type": "code",
   "execution_count": 17,
   "source": [
    "def interpolacaoQuadratica(a, b, valorDeAproximacao):\r\n",
    "    gauss = EliminacaoGauss(a=a, b=b)\r\n",
    "\r\n",
    "    pontos = gauss.resolucao\r\n",
    "\r\n",
    "    # pegando a primeira posição e adicionando a variavel res\r\n",
    "    # para depois somar com o restante da operação no loop\r\n",
    "    res = pontos[0]\r\n",
    "    # percorrendo os pontos onde terão x^n\r\n",
    "    for i in range(1, len(pontos)):\r\n",
    "        res += (pontos[i] * pow(valorDeAproximacao, i))\r\n",
    "\r\n",
    "    return res"
   ],
   "outputs": [],
   "metadata": {}
  },
  {
   "cell_type": "code",
   "execution_count": 18,
   "source": [
    "interpolacaoQuadratica(a=a, b=b, valorDeAproximacao=0.2)"
   ],
   "outputs": [
    {
     "output_type": "stream",
     "name": "stdout",
     "text": [
      "1\n",
      "-2.0000000000000004 * 0.2\n",
      "2\n",
      "1.0000000000000007 * 0.04000000000000001\n"
     ]
    },
    {
     "output_type": "execute_result",
     "data": {
      "text/plain": [
       "0.6399999999999999"
      ]
     },
     "metadata": {},
     "execution_count": 18
    }
   ],
   "metadata": {}
  }
 ],
 "metadata": {
  "orig_nbformat": 4,
  "language_info": {
   "name": "python",
   "version": "3.8.8",
   "mimetype": "text/x-python",
   "codemirror_mode": {
    "name": "ipython",
    "version": 3
   },
   "pygments_lexer": "ipython3",
   "nbconvert_exporter": "python",
   "file_extension": ".py"
  },
  "kernelspec": {
   "name": "python3",
   "display_name": "Python 3.8.8 64-bit ('base': conda)"
  },
  "interpreter": {
   "hash": "fa5f9981faff3e28c5b655bc581dda5a664ac098a4a1ee3f1bf9a902edcbe862"
  }
 },
 "nbformat": 4,
 "nbformat_minor": 2
}