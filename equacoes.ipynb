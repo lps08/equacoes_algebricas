{
 "cells": [
  {
   "cell_type": "markdown",
   "source": [
    "## Metodo a abisseção"
   ],
   "metadata": {}
  },
  {
   "cell_type": "code",
   "execution_count": 17,
   "source": [
    "def bissecao(a, b, f, n, epsilon):\r\n",
    "    \"\"\"\r\n",
    "        Função responsável por usar o calculo da bisseção\r\n",
    "\r\n",
    "        :param a: valor de a\r\n",
    "        :param b: valor de b\r\n",
    "        :param f: função onde determina o valor de f(a), f(b), f(x)\r\n",
    "    \"\"\"\r\n",
    "\r\n",
    "    i = 1\r\n",
    "    fa = f(a)\r\n",
    "\r\n",
    "    # loop até o numero de iteração definido\r\n",
    "    while (i <= n):\r\n",
    "        # atualizando os valores de p\r\n",
    "        p = a + (b -a)/2\r\n",
    "        fp = f(p)\r\n",
    "\r\n",
    "        # verificando o método de parada\r\n",
    "        if ((fp == 0) or ((b-a)/2 < epsilon)):\r\n",
    "            return p\r\n",
    "\r\n",
    "        # atualizando os valores para a proxima iteração\r\n",
    "        if (fa * fp > 0):\r\n",
    "            a = p\r\n",
    "            fa = fp\r\n",
    "\r\n",
    "        else:\r\n",
    "            b = p\r\n",
    "            \r\n",
    "        i += 1\r\n",
    "\r\n",
    "        print(\"{} | {} | {}\".format(a, b, p))"
   ],
   "outputs": [],
   "metadata": {}
  },
  {
   "cell_type": "markdown",
   "source": [
    "f(x) = x^2 - 3"
   ],
   "metadata": {}
  },
  {
   "cell_type": "code",
   "execution_count": 18,
   "source": [
    "def f(x):\r\n",
    "    return pow(x, 2) - 3"
   ],
   "outputs": [],
   "metadata": {}
  },
  {
   "cell_type": "code",
   "execution_count": 19,
   "source": [
    "bissecao(a=1, b=2, f=f, n=7, epsilon=0.01)"
   ],
   "outputs": [
    {
     "output_type": "stream",
     "name": "stdout",
     "text": [
      "1.5 | 2 | 1.5\n",
      "1.5 | 1.75 | 1.75\n",
      "1.625 | 1.75 | 1.625\n",
      "1.6875 | 1.75 | 1.6875\n",
      "1.71875 | 1.75 | 1.71875\n",
      "1.71875 | 1.734375 | 1.734375\n",
      "1.71875 | 1.734375 | 1.7265625\n"
     ]
    },
    {
     "output_type": "execute_result",
     "data": {
      "text/plain": [
       "1.7265625"
      ]
     },
     "metadata": {},
     "execution_count": 19
    }
   ],
   "metadata": {}
  },
  {
   "cell_type": "markdown",
   "source": [
    "## Metodo de Newton"
   ],
   "metadata": {}
  },
  {
   "cell_type": "code",
   "execution_count": 26,
   "source": [
    "def newton(x0, erro, maxIter, f, fLinha):\r\n",
    "    \"\"\"\r\n",
    "        Funcao do método de newton\r\n",
    "\r\n",
    "        x0 - estimativa inicial\r\n",
    "        erro - erro máximo\r\n",
    "        maxIter - máximo de iteração\r\n",
    "        f - funcao com a equacao a ser resolvida\r\n",
    "        fLinha - funcao com a derivada da equacao\r\n",
    "    \"\"\"\r\n",
    "    \r\n",
    "    k = 0\r\n",
    "    f0 = f(x0)\r\n",
    "    dr = erro + 1\r\n",
    "\r\n",
    "    while (k <= maxIter and abs(f0) > erro and dr > erro):\r\n",
    "        k += 1\r\n",
    "\r\n",
    "        # atualização de x[k+1]\r\n",
    "        x = x0 - (f0/fLinha(x0))\r\n",
    "\r\n",
    "        # atualizacao do erro\r\n",
    "        dr = abs(x - x0)\r\n",
    "\r\n",
    "        x0 = x\r\n",
    "        f0 = f(x0)\r\n",
    "\r\n",
    "        print(\"{} | {} | {}\".format(x, f0, dr))\r\n",
    "\r\n",
    "    return x"
   ],
   "outputs": [],
   "metadata": {}
  },
  {
   "cell_type": "code",
   "execution_count": 30,
   "source": [
    "def f(x):\r\n",
    "    return (1/x)-2"
   ],
   "outputs": [],
   "metadata": {}
  },
  {
   "cell_type": "code",
   "execution_count": 33,
   "source": [
    "def fLinha(x):\r\n",
    "    return - (1/pow(x, 2))"
   ],
   "outputs": [],
   "metadata": {}
  },
  {
   "cell_type": "code",
   "execution_count": 34,
   "source": [
    "newton(x0=0.4, erro=0.01, maxIter=1, f=f, fLinha=fLinha)"
   ],
   "outputs": [
    {
     "output_type": "stream",
     "name": "stdout",
     "text": [
      "0.48000000000000004 | 0.08333333333333304 | 0.08000000000000002\n",
      "0.4992 | 0.0032051282051281937 | 0.01919999999999994\n"
     ]
    },
    {
     "output_type": "execute_result",
     "data": {
      "text/plain": [
       "0.4992"
      ]
     },
     "metadata": {},
     "execution_count": 34
    }
   ],
   "metadata": {}
  },
  {
   "cell_type": "code",
   "execution_count": null,
   "source": [],
   "outputs": [],
   "metadata": {}
  }
 ],
 "metadata": {
  "orig_nbformat": 4,
  "language_info": {
   "name": "python",
   "version": "3.8.8",
   "mimetype": "text/x-python",
   "codemirror_mode": {
    "name": "ipython",
    "version": 3
   },
   "pygments_lexer": "ipython3",
   "nbconvert_exporter": "python",
   "file_extension": ".py"
  },
  "kernelspec": {
   "name": "python3",
   "display_name": "Python 3.8.8 64-bit ('base': conda)"
  },
  "interpreter": {
   "hash": "fa5f9981faff3e28c5b655bc581dda5a664ac098a4a1ee3f1bf9a902edcbe862"
  }
 },
 "nbformat": 4,
 "nbformat_minor": 2
}