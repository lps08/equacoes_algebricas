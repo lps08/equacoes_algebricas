{
 "cells": [
  {
   "cell_type": "code",
   "execution_count": 3,
   "source": [
    "import numpy as np"
   ],
   "outputs": [],
   "metadata": {}
  },
  {
   "cell_type": "markdown",
   "source": [
    "## Metodo a bisseção"
   ],
   "metadata": {}
  },
  {
   "cell_type": "code",
   "execution_count": 12,
   "source": [
    "def bissecao(a, b, f, n, epsilon):\r\n",
    "    \"\"\"\r\n",
    "        Função responsável por usar o calculo da bisseção\r\n",
    "\r\n",
    "        :param a: valor de a, sendo o valor inicial\r\n",
    "        :param b: valor de b, sendo o valor final\r\n",
    "        :param f: função onde determina a equação\r\n",
    "        :param n: numero de iteração\r\n",
    "        :param epsilon: erro aceitavel\r\n",
    "    \"\"\"\r\n",
    "\r\n",
    "    i = 1\r\n",
    "    fa = f(a)\r\n",
    "\r\n",
    "    # loop até o numero de iteração definido\r\n",
    "    while (i <= n):\r\n",
    "        # atualizando os valores de p\r\n",
    "        p = a + (b -a)/2\r\n",
    "        fp = f(p)\r\n",
    "\r\n",
    "        # verificando o método de parada\r\n",
    "        if ((fp == 0) or ((b-a)/2 < epsilon)):\r\n",
    "            # retornando a resolução\r\n",
    "            return  p\r\n",
    "\r\n",
    "        # atualizando os valores para a proxima iteração\r\n",
    "        if (fa * fp > 0):\r\n",
    "            a = p\r\n",
    "            fa = fp\r\n",
    "\r\n",
    "        else:\r\n",
    "            b = p\r\n",
    "            \r\n",
    "        i += 1"
   ],
   "outputs": [],
   "metadata": {}
  },
  {
   "cell_type": "markdown",
   "source": [
    "## Metodo de Newton"
   ],
   "metadata": {}
  },
  {
   "cell_type": "code",
   "execution_count": 6,
   "source": [
    "def newton(x0, erro, maxIter, f, fLinha):\r\n",
    "    \"\"\"\r\n",
    "        Funcao do método de newton\r\n",
    "\r\n",
    "        x0 - estimativa inicial\r\n",
    "        erro - erro máximo\r\n",
    "        maxIter - máximo de iteração\r\n",
    "        f - funcao com a equacao a ser resolvida\r\n",
    "        fLinha - funcao com a derivada da equacao\r\n",
    "    \"\"\"\r\n",
    "    \r\n",
    "    k = 0\r\n",
    "    f0 = f(x0)\r\n",
    "    dr = erro + 1\r\n",
    "\r\n",
    "    while (k <= maxIter and abs(f0) > erro and dr > erro):\r\n",
    "        k += 1\r\n",
    "\r\n",
    "        # atualização de x[k+1]\r\n",
    "        x = x0 - (f0/fLinha(x0))\r\n",
    "\r\n",
    "        # atualizacao do erro\r\n",
    "        dr = abs(x - x0)\r\n",
    "\r\n",
    "        # atualizando o x0 com o x atual\r\n",
    "        x0 = x\r\n",
    "        # novo valor de f0, chamando a função f\r\n",
    "        f0 = f(x0)\r\n",
    "\r\n",
    "    # retornando o resultado\r\n",
    "    return x"
   ],
   "outputs": [],
   "metadata": {}
  },
  {
   "cell_type": "markdown",
   "source": [
    "## Interpolação Quadrática"
   ],
   "metadata": {}
  },
  {
   "cell_type": "markdown",
   "source": [
    "### Método de gaus para resolver o sistema"
   ],
   "metadata": {}
  },
  {
   "cell_type": "code",
   "execution_count": 37,
   "source": [
    "class EliminacaoGauss:\r\n",
    "    def __init__(self, a, b):\r\n",
    "        self.a = a\r\n",
    "        self.b = b\r\n",
    "        self.u, self.c = self.matrizTriangular()\r\n",
    "        self.resolucao = self.substituicaoRegressiva()\r\n",
    "\r\n",
    "    def matrizTriangular(self):\r\n",
    "        \"\"\" Função que faz o cálculo de eliminação de gaus.\r\n",
    "        a = matriz de entrada, b = vetor b. \"\"\"\r\n",
    "\r\n",
    "        #loop que percorre toda a matriz\r\n",
    "        for j in range(len(self.a) - 1):\r\n",
    "            for i in range(j + 1, len(self.a[j])):\r\n",
    "                # representação de mij = aij/ajj\r\n",
    "                m = self.a[i][j] / self.a[j][j]\r\n",
    "\r\n",
    "                # representação de bi = bi - mij bj\r\n",
    "                self.b[i] = self.b[i] - (m * self.b[j])\r\n",
    "\r\n",
    "                # representação de aik = aik - mij ajk\r\n",
    "                for k in range(j, len(self.a)):\r\n",
    "                    self.a[i][k] = self.a[i][k] - (m * self.a[j][k])\r\n",
    "        \r\n",
    "        # retorna a matriz triangular com o vetor b, após\r\n",
    "        # o cálculo da eliminação de gauss\r\n",
    "        return self.a, self.b\r\n",
    "\r\n",
    "    def substituicaoRegressiva(self):\r\n",
    "        \"\"\" Função que faz o cálculo da substituição regressiva.\r\n",
    "            u = matriz triangular, c = vetor b da saida da matriz\r\n",
    "            triangular. \"\"\"\r\n",
    "            \r\n",
    "        # define x com o mesmo tamnho do vetor c\r\n",
    "        x = np.zeros((len(self.c)))\r\n",
    "\r\n",
    "        # calculo da eliminação regressiva\r\n",
    "        for i in reversed(range(len(self.u))):\r\n",
    "            x[i] = self.c[i]\r\n",
    "            for j in range(i + 1, len(self.u[i])):\r\n",
    "                x[i] = x[i] - (self.u[i][j] * x[j])\r\n",
    "\r\n",
    "            x[i] = x[i]/self.u[i][i]\r\n",
    "\r\n",
    "        # retorna a solução do sistema no vetor,\r\n",
    "        # onde o índice i representa o xi\r\n",
    "        return x"
   ],
   "outputs": [],
   "metadata": {}
  },
  {
   "cell_type": "code",
   "execution_count": 38,
   "source": [
    "def interpolacaoQuadratica(a, b, valorDeAproximacao):\r\n",
    "    gauss = EliminacaoGauss(a=a, b=b)\r\n",
    "\r\n",
    "    pontos = gauss.resolucao\r\n",
    "\r\n",
    "    # pegando a primeira posição e adicionando a variavel res\r\n",
    "    # para depois somar com o restante da operação no loop\r\n",
    "    res = pontos[0]\r\n",
    "    # percorrendo os pontos onde terão x^n\r\n",
    "    for i in range(1, len(pontos)):\r\n",
    "        # fazendo multiplicação dos x1, x2, xn...\r\n",
    "        res += (pontos[i] * pow(valorDeAproximacao, i))\r\n",
    "\r\n",
    "    # retornando o resoltado\r\n",
    "    return res"
   ],
   "outputs": [],
   "metadata": {}
  },
  {
   "cell_type": "markdown",
   "source": [
    "## Interpolação de Lagrange"
   ],
   "metadata": {}
  },
  {
   "cell_type": "code",
   "execution_count": 24,
   "source": [
    "def lagrange(x, y, p):\r\n",
    "    # tamanho do vetor de entrada\r\n",
    "    n = len(x)\r\n",
    "    # inicializando o s\r\n",
    "    s = 0\r\n",
    "\r\n",
    "    # percorrendo o vetor \r\n",
    "    for i in range(n):\r\n",
    "        l = 1\r\n",
    "\r\n",
    "        for j in range(n):\r\n",
    "            # pulando quando for o mesmo x, senão vai dar divisão por 0\r\n",
    "            if (x[i] == x[j]):\r\n",
    "                continue\r\n",
    "            # calculando a iteração de lagrange\r\n",
    "            l = l * ((p - x[j])/(x[i] - x[j]))\r\n",
    "\r\n",
    "        # para cada iteração de i, é feita a atualização de s\r\n",
    "        s = s + y[i] * l\r\n",
    "\r\n",
    "    # retornando o resultado\r\n",
    "    return s"
   ],
   "outputs": [],
   "metadata": {}
  },
  {
   "cell_type": "markdown",
   "source": [
    "# Resolução das questões"
   ],
   "metadata": {}
  },
  {
   "cell_type": "markdown",
   "source": [
    "## Solução de Equações Algébricas e Trancendentes"
   ],
   "metadata": {}
  },
  {
   "cell_type": "markdown",
   "source": [
    "### 1 – Calcular, por meio do método da bisseção, o zero da função (a raiz da equação): f(x) = x³ - 6x² – x + 30 com ε ≤10-2, para o intervalo [-3,0; 0,0]."
   ],
   "metadata": {}
  },
  {
   "cell_type": "code",
   "execution_count": 11,
   "source": [
    "# equação f(x)\r\n",
    "def f(x):\r\n",
    "    return pow(x, 3) - (6 * pow(x, 2)) - x + 30\r\n",
    "\r\n",
    "a = -3\r\n",
    "b = 0\r\n",
    "\r\n",
    "print(\"Resolução: \", bissecao(a=a, b=b, f=f, n=10, epsilon=0.01))"
   ],
   "outputs": [
    {
     "output_type": "stream",
     "name": "stdout",
     "text": [
      "Resolução:  -1.998046875\n"
     ]
    }
   ],
   "metadata": {}
  },
  {
   "cell_type": "markdown",
   "source": [
    "### 2 – Calcular, por meio do método de Newton, o zero da função (a raiz da equação): f(x) = x³ - 6x² – x + 30 com ε ≤10-2, para o intervalo [-3,0; -1,0]."
   ],
   "metadata": {}
  },
  {
   "cell_type": "code",
   "execution_count": 16,
   "source": [
    "# equação f(x)\r\n",
    "def f(x):\r\n",
    "    return pow(x, 3) - (6 * pow(x, 2)) - x + 304\r\n",
    "\r\n",
    "# derivada de f\r\n",
    "def fLinha(x):\r\n",
    "    return (3 * pow(x, 2)) - (12 * x) - 1\r\n",
    "\r\n",
    "print(\"Resolução para x0 = -3: \", newton(x0=-3, erro=0.01, maxIter=3, f=f, fLinha=fLinha))\r\n",
    "print(\"Resolução para x0 = -1: \", newton(x0=-1, erro=0.01, maxIter=3, f=f, fLinha=fLinha))"
   ],
   "outputs": [
    {
     "output_type": "stream",
     "name": "stdout",
     "text": [
      "Resolução para x0 = -3:  -5.244279893546675\n",
      "Resolução para x0 = -1:  -6.680477585468823\n"
     ]
    }
   ],
   "metadata": {}
  },
  {
   "cell_type": "markdown",
   "source": [
    "### 3 – Calcular, por meio do método de Newton, o zero da função (a raiz da equação): f(x) = x³ - 6x² – x + 30 com ε ≤10-2, para o intervalo [-3,0; 0,0]."
   ],
   "metadata": {}
  },
  {
   "cell_type": "code",
   "execution_count": 19,
   "source": [
    "# equação f(x)\r\n",
    "def f(x):\r\n",
    "    return pow(x, 3) - (6 * pow(x, 2)) - x + 304\r\n",
    "\r\n",
    "# derivada de f\r\n",
    "def fLinha(x):\r\n",
    "    return (3 * pow(x, 2)) - (12 * x) - 1\r\n",
    "\r\n",
    "print(\"Resolução para o x0 = -3: \", newton(x0=-3, erro=0.01, maxIter=3, f=f, fLinha=fLinha))\r\n",
    "print(\"Resolução para o x0 = 0: \", newton(x0=0, erro=0.01, maxIter=3, f=f, fLinha=fLinha))"
   ],
   "outputs": [
    {
     "output_type": "stream",
     "name": "stdout",
     "text": [
      "Resolução para o x0 = -3:  -5.244279893546675\n",
      "Resolução para o x0 = 0:  91.509501046021\n"
     ]
    }
   ],
   "metadata": {}
  },
  {
   "cell_type": "markdown",
   "source": [
    "## Interpolação (Interpolação Polinomial - Introdução)"
   ],
   "metadata": {}
  },
  {
   "cell_type": "markdown",
   "source": [
    "### 1 – Seja a função y = f(x) definida pelos pontos (0,00;0,00), (0,524;0,328) e (0,785;0,560). Determinar o polinômio interpolador P2(x) e o valor de f(0,73) por meio do polinômio obtido."
   ],
   "metadata": {}
  },
  {
   "cell_type": "markdown",
   "source": [
    "$ a_{0} + a_{1}0 + a_{2}0^2 = 0$\r\n",
    "\r\n",
    "$ a_{0} + a_{1}0.524 + a_{2}0.524^2 = 0.328$\r\n",
    "\r\n",
    "$ a_{0} + a_{1}0.785 + a_{2}0.785^2 = 0.560$"
   ],
   "metadata": {}
  },
  {
   "cell_type": "code",
   "execution_count": 46,
   "source": [
    "a = [[1, 0, 0],\r\n",
    "     [1, 0.524, 0.274576],\r\n",
    "     [1, 0.785, 0.616225]]\r\n",
    "\r\n",
    "b = [0, 0.328, 0.560]\r\n",
    "\r\n",
    "print(\"Resolução: \", interpolacaoQuadratica(a=a, b=b, valorDeAproximacao=0.73))"
   ],
   "outputs": [
    {
     "output_type": "stream",
     "name": "stdout",
     "text": [
      "Resolução:  0.5073161429042209\n"
     ]
    }
   ],
   "metadata": {}
  },
  {
   "cell_type": "markdown",
   "source": [
    "### 2 – Seja a função y = f(x) conhecida apenas nos pontos tabelados a seguir. Determinar Pn(x) e o valor aproximado de f(0,30)."
   ],
   "metadata": {}
  },
  {
   "cell_type": "markdown",
   "source": [
    "$ a_{0} + a_{1}0 + a_{2}0^2 + a_{3}0^3 = 0$\r\n",
    "\r\n",
    "$ a_{0} + a_{1}0.2 + a_{2}0.2^2 + a_{3}0.2^3 = 2.008$\r\n",
    "\r\n",
    "$ a_{0} + a_{1}0.4 + a_{2}0.4^2 + a_{3}0.4^3 = 4.064$\r\n",
    "\r\n",
    "$ a_{0} + a_{1}0.5 + a_{2}0.5^2 + a_{3}0.5^3 = 5.125$"
   ],
   "metadata": {}
  },
  {
   "cell_type": "code",
   "execution_count": 42,
   "source": [
    "a = [[1, 0, 0, 0],\r\n",
    "     [1, 0.2, 0.004, 0.008],\r\n",
    "     [1, 0.4, 0.16, 0.064],\r\n",
    "     [1, 0.5, 0.25, 0.125]]\r\n",
    "\r\n",
    "b = [0, 2.008, 4.064, 5.125]\r\n",
    "\r\n",
    "print(\"Resolução: \", interpolacaoQuadratica(a=a, b=b, valorDeAproximacao=0.30))"
   ],
   "outputs": [
    {
     "output_type": "stream",
     "name": "stdout",
     "text": [
      "Resolução:  3.0269999999999997\n"
     ]
    }
   ],
   "metadata": {}
  },
  {
   "cell_type": "markdown",
   "source": [
    "### 3 – Seja a função y = f(x) conhecida apenas nos pontos tabelados a seguir. Determinar Pn(x) e o valor aproximado de f(1,00)."
   ],
   "metadata": {}
  },
  {
   "cell_type": "markdown",
   "source": [
    "$ a_{0} + a_{1}0.5 + a_{2}0.5^2 + a_{3}0.5^3 = 3.2$\r\n",
    "\r\n",
    "$ a_{0} + a_{1}0.8 + a_{2}0.8^2 + a_{3}0.8^3 = 3.68$\r\n",
    "\r\n",
    "$ a_{0} + a_{1}1.6 + a_{2}1.6^2 + a_{3}1.6^3 = 4.96$\r\n",
    "\r\n",
    "$ a_{0} + a_{1}2 + a_{2}2^2 + a_{3}2^3 = 5.6$"
   ],
   "metadata": {}
  },
  {
   "cell_type": "code",
   "execution_count": 45,
   "source": [
    "a = [[1, 0.5, 0.25, 0.125],\r\n",
    "     [1, 0.8, 0.64, 0.512],\r\n",
    "     [1, 1.6, 2.56, 4.096],\r\n",
    "     [1, 2, 4, 8]]\r\n",
    "\r\n",
    "b = [3.2, 3.68, 4.96, 5.6]\r\n",
    "\r\n",
    "print(\"Resolução: \", interpolacaoQuadratica(a=a, b=b, valorDeAproximacao=1.00))"
   ],
   "outputs": [
    {
     "output_type": "stream",
     "name": "stdout",
     "text": [
      "Resolução:  4.0\n"
     ]
    }
   ],
   "metadata": {}
  },
  {
   "cell_type": "markdown",
   "source": [
    "## Interpolação (Lagrange)"
   ],
   "metadata": {}
  },
  {
   "cell_type": "markdown",
   "source": [
    "### 1 – Seja a função f(x), conhecida apenas nos pontos tabelados. Determine o valor aproximado para f(2,5), por meio da fórmula de interpolação de Lagrange (Pn(x))."
   ],
   "metadata": {}
  },
  {
   "cell_type": "code",
   "execution_count": 28,
   "source": [
    "x = [2, 3]\r\n",
    "y = [0.301, 0.407]\r\n",
    "\r\n",
    "print(\"Reslução: \", lagrange(x=x, y=y, p=2.5))"
   ],
   "outputs": [
    {
     "output_type": "stream",
     "name": "stdout",
     "text": [
      "Reslução:  0.354\n"
     ]
    }
   ],
   "metadata": {}
  },
  {
   "cell_type": "markdown",
   "source": [
    "### 2 – A tabela a seguir relaciona o calor específico da água em função da temperatura. Calcular o calor específico da água a uma temperatura de 25oC, por meio do polinômio de interpolação de Lagrange."
   ],
   "metadata": {}
  },
  {
   "cell_type": "code",
   "execution_count": 29,
   "source": [
    "x = [20, 30, 45, 55]\r\n",
    "y = [0.99907, 0.99826, 0.99849, 0.99919]\r\n",
    "\r\n",
    "print(\"Reslução: \", lagrange(x=x, y=y, p=25))"
   ],
   "outputs": [
    {
     "output_type": "stream",
     "name": "stdout",
     "text": [
      "Reslução:  0.9985448571428571\n"
     ]
    }
   ],
   "metadata": {}
  },
  {
   "cell_type": "markdown",
   "source": [
    "### 3 – A velocidade v (em m/s) de um foguete lançado do solo foi medida quatro vezes, t segundos após o lançamento e os dados foram registrados na tabela a seguir. Calcular por meio do polinômio de interpolação de Lagrange, a velocidade do foguete após 25 segundos do lançamento."
   ],
   "metadata": {}
  },
  {
   "cell_type": "code",
   "execution_count": 30,
   "source": [
    "x = [0, 8, 20, 30, 45]\r\n",
    "y = [0.0, 52.032, 160.450, 275.961, 370.276]\r\n",
    "\r\n",
    "print(\"Reslução: \", lagrange(x=x, y=y, p=25))"
   ],
   "outputs": [
    {
     "output_type": "stream",
     "name": "stdout",
     "text": [
      "Reslução:  217.49610057785057\n"
     ]
    }
   ],
   "metadata": {}
  }
 ],
 "metadata": {
  "orig_nbformat": 4,
  "language_info": {
   "name": "python",
   "version": "3.8.8",
   "mimetype": "text/x-python",
   "codemirror_mode": {
    "name": "ipython",
    "version": 3
   },
   "pygments_lexer": "ipython3",
   "nbconvert_exporter": "python",
   "file_extension": ".py"
  },
  "kernelspec": {
   "name": "python3",
   "display_name": "Python 3.8.8 64-bit ('base': conda)"
  },
  "interpreter": {
   "hash": "fa5f9981faff3e28c5b655bc581dda5a664ac098a4a1ee3f1bf9a902edcbe862"
  }
 },
 "nbformat": 4,
 "nbformat_minor": 2
}