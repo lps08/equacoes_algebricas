{
 "cells": [
  {
   "cell_type": "code",
   "execution_count": 1,
   "source": [
    "import numpy as np"
   ],
   "outputs": [],
   "metadata": {}
  },
  {
   "cell_type": "markdown",
   "source": [
    "## Metodo a abisseção"
   ],
   "metadata": {}
  },
  {
   "cell_type": "code",
   "execution_count": 31,
   "source": [
    "def bissecao(a, b, f, n, epsilon):\n",
    "    \"\"\"\n",
    "        Função responsável por usar o calculo da bisseção\n",
    "\n",
    "        :param a: valor de a\n",
    "        :param b: valor de b\n",
    "        :param f: função onde determina o valor de f(a), f(b), f(x)\n",
    "    \"\"\"\n",
    "\n",
    "    i = 1\n",
    "    fa = f(a)\n",
    "\n",
    "    # loop até o numero de iteração definido\n",
    "    while (i <= n):\n",
    "        # atualizando os valores de p\n",
    "        p = a + (b -a)/2\n",
    "        fp = f(p)\n",
    "\n",
    "        # verificando o método de parada\n",
    "        if ((fp == 0) or ((b-a)/2 < epsilon)):\n",
    "            return  p\n",
    "\n",
    "        # atualizando os valores para a proxima iteração\n",
    "        if (fa * fp > 0):\n",
    "            a = p\n",
    "            fa = fp\n",
    "\n",
    "        else:\n",
    "            b = p\n",
    "            \n",
    "        i += 1\n",
    "\n",
    "        print(\"{} | {} | {}\".format(a, b, p))"
   ],
   "outputs": [],
   "metadata": {}
  },
  {
   "cell_type": "markdown",
   "source": [
    "f(x) = x^2 - 3"
   ],
   "metadata": {}
  },
  {
   "cell_type": "code",
   "execution_count": 18,
   "source": [
    "def f(x):\n",
    "    return pow(x, 2) - 3"
   ],
   "outputs": [],
   "metadata": {}
  },
  {
   "cell_type": "code",
   "execution_count": 19,
   "source": [
    "bissecao(a=1, b=2, f=f, n=7, epsilon=0.01)"
   ],
   "outputs": [
    {
     "output_type": "stream",
     "name": "stdout",
     "text": [
      "1.5 | 2 | 1.5\n",
      "1.5 | 1.75 | 1.75\n",
      "1.625 | 1.75 | 1.625\n",
      "1.6875 | 1.75 | 1.6875\n",
      "1.71875 | 1.75 | 1.71875\n",
      "1.71875 | 1.734375 | 1.734375\n",
      "1.71875 | 1.734375 | 1.7265625\n"
     ]
    },
    {
     "output_type": "execute_result",
     "data": {
      "text/plain": [
       "1.7265625"
      ]
     },
     "metadata": {},
     "execution_count": 19
    }
   ],
   "metadata": {}
  },
  {
   "cell_type": "markdown",
   "source": [
    "## Metodo de Newton"
   ],
   "metadata": {}
  },
  {
   "cell_type": "code",
   "execution_count": 34,
   "source": [
    "def newton(x0, erro, maxIter, f, fLinha):\n",
    "    \"\"\"\n",
    "        Funcao do método de newton\n",
    "\n",
    "        x0 - estimativa inicial\n",
    "        erro - erro máximo\n",
    "        maxIter - máximo de iteração\n",
    "        f - funcao com a equacao a ser resolvida\n",
    "        fLinha - funcao com a derivada da equacao\n",
    "    \"\"\"\n",
    "    \n",
    "    k = 0\n",
    "    f0 = f(x0)\n",
    "    dr = erro + 1\n",
    "\n",
    "    while (k <= maxIter and abs(f0) > erro and dr > erro):\n",
    "        k += 1\n",
    "\n",
    "        # atualização de x[k+1]\n",
    "        x = x0 - (f0/fLinha(x0))\n",
    "\n",
    "        # atualizacao do erro\n",
    "        dr = abs(x - x0)\n",
    "\n",
    "        x0 = x\n",
    "        f0 = f(x0)\n",
    "\n",
    "        print(\"{} | {} | {}\".format(x, f0, dr))\n",
    "\n",
    "    return x"
   ],
   "outputs": [],
   "metadata": {}
  },
  {
   "cell_type": "code",
   "execution_count": 30,
   "source": [
    "def f(x):\n",
    "    return (1/x)-2"
   ],
   "outputs": [],
   "metadata": {}
  },
  {
   "cell_type": "code",
   "execution_count": 33,
   "source": [
    "def fLinha(x):\n",
    "    return - (1/pow(x, 2))"
   ],
   "outputs": [],
   "metadata": {}
  },
  {
   "cell_type": "code",
   "execution_count": 34,
   "source": [
    "newton(x0=0.4, erro=0.01, maxIter=1, f=f, fLinha=fLinha)"
   ],
   "outputs": [
    {
     "output_type": "stream",
     "name": "stdout",
     "text": [
      "0.48000000000000004 | 0.08333333333333304 | 0.08000000000000002\n",
      "0.4992 | 0.0032051282051281937 | 0.01919999999999994\n"
     ]
    },
    {
     "output_type": "execute_result",
     "data": {
      "text/plain": [
       "0.4992"
      ]
     },
     "metadata": {},
     "execution_count": 34
    }
   ],
   "metadata": {}
  },
  {
   "cell_type": "markdown",
   "source": [],
   "metadata": {}
  },
  {
   "cell_type": "markdown",
   "source": [
    "## Interpolação Quadrática"
   ],
   "metadata": {}
  },
  {
   "cell_type": "markdown",
   "source": [
    "### Utilizando método de gaus para resolver o sistema"
   ],
   "metadata": {}
  },
  {
   "cell_type": "code",
   "execution_count": 2,
   "source": [
    "class EliminacaoGauss:\n",
    "    def __init__(self, a, b):\n",
    "        self.a = a\n",
    "        self.b = b\n",
    "        self.u, self.c = self.matrizTriangular()\n",
    "        self.resolucao = self.substituicaoRegressiva()\n",
    "\n",
    "    def matrizTriangular(self):\n",
    "        \"\"\" Função que faz o cálculo de eliminação de gaus.\n",
    "        a = matriz de entrada, b = vetor b. \"\"\"\n",
    "\n",
    "        #loop que percorre toda a matriz\n",
    "        for j in range(len(self.a) - 1):\n",
    "            for i in range(j + 1, len(self.a[j])):\n",
    "                # representação de mij = aij/ajj\n",
    "                m = self.a[i][j] / self.a[j][j]\n",
    "\n",
    "                # representação de bi = bi - mij bj\n",
    "                self.b[i] = self.b[i] - (m * self.b[j])\n",
    "\n",
    "                # representação de aik = aik - mij ajk\n",
    "                for k in range(j, len(self.a)):\n",
    "                    self.a[i][k] = self.a[i][k] - (m * self.a[j][k])\n",
    "        \n",
    "        # retorna a matriz triangular com o vetor b, após\n",
    "        # o cálculo da eliminação de gauss\n",
    "        return self.a, self.b\n",
    "\n",
    "    def substituicaoRegressiva(self):\n",
    "        \"\"\" Função que faz o cálculo da substituição regressiva.\n",
    "            u = matriz triangular, c = vetor b da saida da matriz\n",
    "            triangular. \"\"\"\n",
    "            \n",
    "        # define x com o mesmo tamnho do vetor c\n",
    "        x = np.zeros((len(self.c)))\n",
    "\n",
    "        # calculo da eliminação regressiva\n",
    "        for i in reversed(range(len(self.u))):\n",
    "            x[i] = self.c[i]\n",
    "            for j in range(i + 1, len(self.u[i])):\n",
    "                x[i] = x[i] - (self.u[i][j] * x[j])\n",
    "\n",
    "            x[i] = x[i]/self.u[i][i]\n",
    "\n",
    "        # retorna a solução do sistema no vetor,\n",
    "        # onde o índice i representa o xi\n",
    "        return x"
   ],
   "outputs": [],
   "metadata": {}
  },
  {
   "cell_type": "code",
   "execution_count": 4,
   "source": [
    "a = [[1, 0.5, 0.25],\n",
    "    [1, 0.3, 0.09],\n",
    "    [1, 0.1, 0.01]]\n",
    "\n",
    "b = [0.25, 0.49, 0.81]\n",
    "\n",
    "gauss = EliminacaoGauss(a=a, b=b)\n",
    "gauss.resolucao"
   ],
   "outputs": [
    {
     "output_type": "execute_result",
     "data": {
      "text/plain": [
       "array([ 1., -2.,  1.])"
      ]
     },
     "metadata": {},
     "execution_count": 4
    }
   ],
   "metadata": {}
  },
  {
   "cell_type": "code",
   "execution_count": 17,
   "source": [
    "def interpolacaoQuadratica(a, b, valorDeAproximacao):\n",
    "    gauss = EliminacaoGauss(a=a, b=b)\n",
    "\n",
    "    pontos = gauss.resolucao\n",
    "\n",
    "    # pegando a primeira posição e adicionando a variavel res\n",
    "    # para depois somar com o restante da operação no loop\n",
    "    res = pontos[0]\n",
    "    # percorrendo os pontos onde terão x^n\n",
    "    for i in range(1, len(pontos)):\n",
    "        res += (pontos[i] * pow(valorDeAproximacao, i))\n",
    "\n",
    "    return res"
   ],
   "outputs": [],
   "metadata": {}
  },
  {
   "cell_type": "code",
   "execution_count": 18,
   "source": [
    "interpolacaoQuadratica(a=a, b=b, valorDeAproximacao=0.2)"
   ],
   "outputs": [
    {
     "output_type": "stream",
     "name": "stdout",
     "text": [
      "1\n",
      "-2.0000000000000004 * 0.2\n",
      "2\n",
      "1.0000000000000007 * 0.04000000000000001\n"
     ]
    },
    {
     "output_type": "execute_result",
     "data": {
      "text/plain": [
       "0.6399999999999999"
      ]
     },
     "metadata": {},
     "execution_count": 18
    }
   ],
   "metadata": {}
  },
  {
   "cell_type": "markdown",
   "source": [
    "## Interpolação de Lagrange"
   ],
   "metadata": {}
  },
  {
   "cell_type": "code",
   "execution_count": 24,
   "source": [
    "def lagrange(x, y, p):\n",
    "    # tamanho do vetor de entrada\n",
    "    n = len(x)\n",
    "    # inicializando o s\n",
    "    s = 0\n",
    "\n",
    "    for i in range(n):\n",
    "        l = 1\n",
    "\n",
    "        for j in range(n):\n",
    "            # pulando quando for o mesmo x\n",
    "            if (x[i] == x[j]):\n",
    "                continue\n",
    "            # calculando a iteração de lagrange\n",
    "            l = l * ((p - x[j])/(x[i] - x[j]))\n",
    "\n",
    "        # para cada iteração de i, é feita a atualização de s\n",
    "        s = s + y[i] * l\n",
    "\n",
    "    # retornando o resultado\n",
    "    return s"
   ],
   "outputs": [],
   "metadata": {}
  },
  {
   "cell_type": "code",
   "execution_count": 20,
   "source": [
    "x = [0, 2, 4]\n",
    "y = [-32, -18, 28]\n",
    "\n",
    "lagrange(x=x, y=y, p=5)"
   ],
   "outputs": [
    {
     "output_type": "execute_result",
     "data": {
      "text/plain": [
       "63.0"
      ]
     },
     "metadata": {},
     "execution_count": 20
    }
   ],
   "metadata": {}
  },
  {
   "cell_type": "markdown",
   "source": [
    "# Resolução das questões"
   ],
   "metadata": {}
  },
  {
   "cell_type": "markdown",
   "source": [
    "## Solução de Equações Algébricas e Trancendentes"
   ],
   "metadata": {}
  },
  {
   "cell_type": "markdown",
   "source": [
    "### 1 – Calcular, por meio do método da bisseção, o zero da função (a raiz da equação): f(x) = x³ - 6x² – x + 30 com ε ≤10-2, para o intervalo [-3,0; 0,0]."
   ],
   "metadata": {}
  },
  {
   "cell_type": "code",
   "execution_count": 32,
   "source": [
    "def f(x):\n",
    "    return pow(x, 3) - (6 * pow(x, 2)) - x + 30\n",
    "\n",
    "a = -3\n",
    "b = 0\n",
    "\n",
    "print(\"Resolução: \", bissecao(a=a, b=b, f=f, n=10, epsilon=0.01))"
   ],
   "outputs": [
    {
     "output_type": "stream",
     "name": "stdout",
     "text": [
      "-3 | -1.5 | -1.5\n",
      "-2.25 | -1.5 | -2.25\n",
      "-2.25 | -1.875 | -1.875\n",
      "-2.0625 | -1.875 | -2.0625\n",
      "-2.0625 | -1.96875 | -1.96875\n",
      "-2.015625 | -1.96875 | -2.015625\n",
      "-2.015625 | -1.9921875 | -1.9921875\n",
      "-2.00390625 | -1.9921875 | -2.00390625\n",
      "Resolução:  -1.998046875\n"
     ]
    }
   ],
   "metadata": {}
  },
  {
   "cell_type": "markdown",
   "source": [
    "### 2 – Calcular, por meio do método de Newton, o zero da função (a raiz da equação): f(x) = x³ - 6x² – x + 30 com ε ≤10-2, para o intervalo [-3,0; -1,0]."
   ],
   "metadata": {}
  },
  {
   "cell_type": "code",
   "execution_count": 35,
   "source": [
    "def f(x):\n",
    "    return pow(x, 3) - (6 * pow(x, 2)) - x + 304\n",
    "\n",
    "def fLinha(x):\n",
    "    return pow(x, 2) - (12 * x) - 1\n",
    "\n",
    "print(\"Resolução para x0 = -3: \", newton(x0=-3, erro=0.01, maxIter=3, f=f, fLinha=fLinha))\n",
    "print(\"Resolução para x0 = -1: \", newton(x0=-1, erro=0.01, maxIter=3, f=f, fLinha=fLinha))\n"
   ],
   "outputs": [
    {
     "output_type": "stream",
     "name": "stdout",
     "text": [
      "-8.136363636363637 | -623.6967505634861 | 5.136363636363637\n",
      "-4.306167764201337 | 117.19806603567622 | 3.8301958721622995\n",
      "-5.999363177215927 | -121.88601845443094 | 1.6931954130145899\n",
      "-4.860078779770266 | 52.341045975857924 | 1.1392843974456612\n",
      "Resolução para x0 = -3:  -4.860078779770266\n",
      "-25.833333333333332 | -20914.49537037037 | 24.833333333333332\n",
      "-4.412472616575151 | 105.68252008005203 | 21.42086071675818\n",
      "-5.892214043436365 | -102.98388903645929 | 1.4797414268612137\n",
      "-4.906012168415905 | 46.409691731546616 | 0.98620187502046\n",
      "Resolução para x0 = -1:  -4.906012168415905\n"
     ]
    }
   ],
   "metadata": {}
  },
  {
   "cell_type": "markdown",
   "source": [
    "### 3 – Calcular, por meio do método de Newton, o zero da função (a raiz da equação): f(x) = x³ - 6x² – x + 30 com ε ≤10-2, para o intervalo [-3,0; 0,0]."
   ],
   "metadata": {}
  },
  {
   "cell_type": "code",
   "execution_count": 22,
   "source": [
    "def f(x):\n",
    "    return pow(x, 3) - (6 * pow(x, 2)) - x + 304\n",
    "\n",
    "def fLinha(x):\n",
    "    return pow(x, 2) - (12 * x) - 1\n",
    "\n",
    "newton(x0=-3, erro=0.01, maxIter=3, f=f, fLinha=fLinha)\n",
    "newton(x0=0, erro=0.01, maxIter=3, f=f, fLinha=fLinha)"
   ],
   "outputs": [
    {
     "output_type": "stream",
     "name": "stdout",
     "text": [
      "-8.136363636363637 | -623.6967505634861 | 5.136363636363637\n",
      "-4.306167764201337 | 117.19806603567622 | 3.8301958721622995\n",
      "-5.999363177215927 | -121.88601845443094 | 1.6931954130145899\n",
      "-4.860078779770266 | 52.341045975857924 | 1.1392843974456612\n",
      "resolução:  -4.860078779770266\n",
      "304.0 | 27539968.0 | 304.0\n",
      "-6.250070409048419 | -168.27908645264148 | 310.2500704090484\n",
      "-4.761720876621284 | 64.75061553899056 | 1.4883495324271347\n",
      "-5.58327660077723 | -51.50194541896627 | 0.8215557241559459\n",
      "resolução:  -5.58327660077723\n"
     ]
    }
   ],
   "metadata": {}
  },
  {
   "cell_type": "markdown",
   "source": [
    "## Interpolação (Interpolação Polinomial - Introdução)"
   ],
   "metadata": {}
  },
  {
   "cell_type": "markdown",
   "source": [
    "### 1 – Seja a função y = f(x) definida pelos pontos (0,00;0,00), (0,524;0,328) e (0,785;0,560). Determinar o polinômio interpolador P2(x) e o valor de f(0,73) por meio do polinômio obtido."
   ],
   "metadata": {}
  },
  {
   "cell_type": "markdown",
   "source": [
    "### 2 – Seja a função y = f(x) conhecida apenas nos pontos tabelados a seguir. Determinar Pn(x) e o valor aproximado de f(0,30)."
   ],
   "metadata": {}
  },
  {
   "cell_type": "markdown",
   "source": [
    "### 3 – Seja a função y = f(x) conhecida apenas nos pontos tabelados a seguir. Determinar Pn(x) e o valor aproximado de f(1,00)."
   ],
   "metadata": {}
  },
  {
   "cell_type": "markdown",
   "source": [
    "## Interpolação (Lagrange)"
   ],
   "metadata": {}
  },
  {
   "cell_type": "markdown",
   "source": [
    "### 1 – Seja a função f(x), conhecida apenas nos pontos tabelados. Determine o valor aproximado para f(2,5), por meio da fórmula de interpolação de Lagrange (Pn(x))."
   ],
   "metadata": {}
  },
  {
   "cell_type": "code",
   "execution_count": 28,
   "source": [
    "x = [2, 3]\n",
    "y = [0.301, 0.407]\n",
    "\n",
    "print(\"Reslução: \", lagrange(x=x, y=y, p=2.5))"
   ],
   "outputs": [
    {
     "output_type": "stream",
     "name": "stdout",
     "text": [
      "Reslução:  0.354\n"
     ]
    }
   ],
   "metadata": {}
  },
  {
   "cell_type": "markdown",
   "source": [
    "### 2 – A tabela a seguir relaciona o calor específico da água em função da temperatura. Calcular o calor específico da água a uma temperatura de 25oC, por meio do polinômio de interpolação de Lagrange."
   ],
   "metadata": {}
  },
  {
   "cell_type": "code",
   "execution_count": 29,
   "source": [
    "x = [20, 30, 45, 55]\n",
    "y = [0.99907, 0.99826, 0.99849, 0.99919]\n",
    "\n",
    "print(\"Reslução: \", lagrange(x=x, y=y, p=25))"
   ],
   "outputs": [
    {
     "output_type": "stream",
     "name": "stdout",
     "text": [
      "Reslução:  0.9985448571428571\n"
     ]
    }
   ],
   "metadata": {}
  },
  {
   "cell_type": "markdown",
   "source": [
    "### 3 – A velocidade v (em m/s) de um foguete lançado do solo foi medida quatro vezes, t segundos após o lançamento e os dados foram registrados na tabela a seguir. Calcular por meio do polinômio de interpolação de Lagrange, a velocidade do foguete após 25 segundos do lançamento."
   ],
   "metadata": {}
  },
  {
   "cell_type": "code",
   "execution_count": 30,
   "source": [
    "x = [0, 8, 20, 30, 45]\n",
    "y = [0.0, 52.032, 160.450, 275.961, 370.276]\n",
    "\n",
    "print(\"Reslução: \", lagrange(x=x, y=y, p=25))"
   ],
   "outputs": [
    {
     "output_type": "stream",
     "name": "stdout",
     "text": [
      "Reslução:  217.49610057785057\n"
     ]
    }
   ],
   "metadata": {}
  }
 ],
 "metadata": {
  "orig_nbformat": 4,
  "language_info": {
   "name": "python",
   "version": "3.7.9",
   "mimetype": "text/x-python",
   "codemirror_mode": {
    "name": "ipython",
    "version": 3
   },
   "pygments_lexer": "ipython3",
   "nbconvert_exporter": "python",
   "file_extension": ".py"
  },
  "kernelspec": {
   "name": "python3",
   "display_name": "Python 3.7.9 64-bit ('carla': conda)"
  },
  "interpreter": {
   "hash": "22f09c937be0885ac21ad1d9987401ababbf147e903e3cc1c4c5ccd5a947262e"
  }
 },
 "nbformat": 4,
 "nbformat_minor": 2
}