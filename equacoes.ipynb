{
 "cells": [
  {
   "cell_type": "code",
   "execution_count": 17,
   "source": [
    "def bissecao(a, b, f, n, epsilon):\r\n",
    "    \"\"\"\r\n",
    "        Função responsável por usar o calculo da bisseção\r\n",
    "\r\n",
    "        :param a: valor de a\r\n",
    "        :param b: valor de b\r\n",
    "        :param f: função onde determina o valor de f(a), f(b), f(x)\r\n",
    "    \"\"\"\r\n",
    "\r\n",
    "    i = 1\r\n",
    "    fa = f(a)\r\n",
    "\r\n",
    "    # loop até o numero de iteração definido\r\n",
    "    while (i <= n):\r\n",
    "        # atualizando os valores de p\r\n",
    "        p = a + (b -a)/2\r\n",
    "        fp = f(p)\r\n",
    "\r\n",
    "        # verificando o método de parada\r\n",
    "        if ((fp == 0) or ((b-a)/2 < epsilon)):\r\n",
    "            return p\r\n",
    "\r\n",
    "        # atualizando os valores para a proxima iteração\r\n",
    "        if (fa * fp > 0):\r\n",
    "            a = p\r\n",
    "            fa = fp\r\n",
    "\r\n",
    "        else:\r\n",
    "            b = p\r\n",
    "            \r\n",
    "        i += 1\r\n",
    "\r\n",
    "        print(\"{} | {} | {}\".format(a, b, p))"
   ],
   "outputs": [],
   "metadata": {}
  },
  {
   "cell_type": "markdown",
   "source": [
    "f(x) = x^2 - 3"
   ],
   "metadata": {}
  },
  {
   "cell_type": "code",
   "execution_count": 18,
   "source": [
    "def f(x):\r\n",
    "    return pow(x, 2) - 3"
   ],
   "outputs": [],
   "metadata": {}
  },
  {
   "cell_type": "code",
   "execution_count": 19,
   "source": [
    "bissecao(a=1, b=2, f=f, n=7, epsilon=0.01)"
   ],
   "outputs": [
    {
     "output_type": "stream",
     "name": "stdout",
     "text": [
      "1.5 | 2 | 1.5\n",
      "1.5 | 1.75 | 1.75\n",
      "1.625 | 1.75 | 1.625\n",
      "1.6875 | 1.75 | 1.6875\n",
      "1.71875 | 1.75 | 1.71875\n",
      "1.71875 | 1.734375 | 1.734375\n",
      "1.71875 | 1.734375 | 1.7265625\n"
     ]
    },
    {
     "output_type": "execute_result",
     "data": {
      "text/plain": [
       "1.7265625"
      ]
     },
     "metadata": {},
     "execution_count": 19
    }
   ],
   "metadata": {}
  },
  {
   "cell_type": "code",
   "execution_count": null,
   "source": [],
   "outputs": [],
   "metadata": {}
  }
 ],
 "metadata": {
  "orig_nbformat": 4,
  "language_info": {
   "name": "python",
   "version": "3.8.8",
   "mimetype": "text/x-python",
   "codemirror_mode": {
    "name": "ipython",
    "version": 3
   },
   "pygments_lexer": "ipython3",
   "nbconvert_exporter": "python",
   "file_extension": ".py"
  },
  "kernelspec": {
   "name": "python3",
   "display_name": "Python 3.8.8 64-bit ('base': conda)"
  },
  "interpreter": {
   "hash": "fa5f9981faff3e28c5b655bc581dda5a664ac098a4a1ee3f1bf9a902edcbe862"
  }
 },
 "nbformat": 4,
 "nbformat_minor": 2
}